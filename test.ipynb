{
 "cells": [
  {
   "cell_type": "code",
   "execution_count": 7,
   "metadata": {},
   "outputs": [
    {
     "name": "stdout",
     "output_type": "stream",
     "text": [
      "1\n",
      "[{'q': 10}]\n"
     ]
    }
   ],
   "source": [
    "a = [{\"q\":5}]\n",
    "for i in a:\n",
    "    if i[\"q\"] == 5:\n",
    "        i[\"q\"] +=5\n",
    "        print(1)\n",
    "    else:\n",
    "        print(0)\n",
    "print(a)"
   ]
  },
  {
   "cell_type": "code",
   "execution_count": 37,
   "metadata": {},
   "outputs": [
    {
     "name": "stdout",
     "output_type": "stream",
     "text": [
      "1\n"
     ]
    }
   ],
   "source": [
    "a = []\n",
    "\n",
    "if not a:\n",
    "    print(1)\n",
    "else:\n",
    "    a.append(1)\n",
    "    print(2)"
   ]
  },
  {
   "cell_type": "code",
   "execution_count": 40,
   "metadata": {},
   "outputs": [
    {
     "data": {
      "text/plain": [
       "True"
      ]
     },
     "execution_count": 40,
     "metadata": {},
     "output_type": "execute_result"
    }
   ],
   "source": [
    "a = []\n",
    "not a"
   ]
  },
  {
   "cell_type": "code",
   "execution_count": 42,
   "metadata": {},
   "outputs": [
    {
     "data": {
      "text/plain": [
       "'d'"
      ]
     },
     "execution_count": 42,
     "metadata": {},
     "output_type": "execute_result"
    }
   ],
   "source": [
    "a = ['a', 'b', 'c', 'd']\n",
    "a.pop()"
   ]
  },
  {
   "cell_type": "code",
   "execution_count": 55,
   "metadata": {},
   "outputs": [
    {
     "name": "stdout",
     "output_type": "stream",
     "text": [
      "6\n",
      "0 1\n",
      "1 1\n",
      "2 1\n",
      "3 1\n",
      "4 1\n",
      "5 1\n"
     ]
    }
   ],
   "source": [
    "a = [1,1,1,1,1,1]\n",
    "print(len(a))\n",
    "for idx, item in enumerate(a):\n",
    "    print(idx,item)"
   ]
  },
  {
   "cell_type": "code",
   "execution_count": 56,
   "metadata": {},
   "outputs": [
    {
     "name": "stdout",
     "output_type": "stream",
     "text": [
      "6\n",
      "5\n"
     ]
    }
   ],
   "source": [
    "total=0\n",
    "a = [1,1,1,1,1,1]\n",
    "print(len(a))\n",
    "for idx, item in enumerate(a):\n",
    "    if idx == 3:\n",
    "        a.pop()\n",
    "    total += item\n",
    "print(total)"
   ]
  },
  {
   "cell_type": "code",
   "execution_count": null,
   "metadata": {},
   "outputs": [],
   "source": []
  },
  {
   "cell_type": "code",
   "execution_count": null,
   "metadata": {},
   "outputs": [],
   "source": []
  },
  {
   "cell_type": "code",
   "execution_count": null,
   "metadata": {},
   "outputs": [],
   "source": []
  },
  {
   "cell_type": "code",
   "execution_count": 86,
   "metadata": {},
   "outputs": [
    {
     "name": "stdout",
     "output_type": "stream",
     "text": [
      "0\n"
     ]
    }
   ],
   "source": [
    "cart = [{'item_id': 1, 'price': 10.0, 'quantity': 10}, {'item_id': 3, 'price': 9.0, 'quantity': 10}]\n",
    "diction = {'item_id': 1, 'price': 10.0, 'quantity': 0}\n",
    "total_price = []\n",
    "\n",
    "for idx,item in enumerate(cart):\n",
    "    total_price.append(item[\"price\"]*item[\"quantity\"])\n",
    "\n",
    "    if item[\"item_id\"] == diction[\"item_id\"]:\n",
    "        if diction[\"quantity\"] == 0:\n",
    "            cart.pop(idx)\n",
    "            total_price.pop(idx)\n",
    "        else:\n",
    "            item[\"quantity\"] = diction[\"quantity\"]\n",
    "            total_price[idx] = item[\"price\"]*item[\"quantity\"]\n",
    "            \n",
    "total_price = sum(total_price)\n",
    "\n",
    "print(total_price)"
   ]
  },
  {
   "cell_type": "code",
   "execution_count": 83,
   "metadata": {},
   "outputs": [
    {
     "data": {
      "text/plain": [
       "[{'item_id': 3, 'name': 'Chai Tea', 'price': 9.0, 'quantity': 10}]"
      ]
     },
     "execution_count": 83,
     "metadata": {},
     "output_type": "execute_result"
    }
   ],
   "source": [
    "cart = [{'item_id': 1, 'name': 'Chai Tea', 'price': 10.0, 'quantity': 10}, {'item_id': 3, 'name': 'Chai Tea', 'price': 9.0, 'quantity': 10}]\n",
    "cart.pop(0)\n",
    "cart"
   ]
  },
  {
   "cell_type": "code",
   "execution_count": null,
   "metadata": {},
   "outputs": [],
   "source": []
  },
  {
   "cell_type": "code",
   "execution_count": null,
   "metadata": {},
   "outputs": [],
   "source": []
  }
 ],
 "metadata": {
  "kernelspec": {
   "display_name": "Python [default]",
   "language": "python",
   "name": "python3"
  },
  "language_info": {
   "codemirror_mode": {
    "name": "ipython",
    "version": 3
   },
   "file_extension": ".py",
   "mimetype": "text/x-python",
   "name": "python",
   "nbconvert_exporter": "python",
   "pygments_lexer": "ipython3",
   "version": "3.6.5"
  }
 },
 "nbformat": 4,
 "nbformat_minor": 2
}
